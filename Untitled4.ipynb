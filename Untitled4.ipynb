{
 "cells": [
  {
   "cell_type": "markdown",
   "id": "c6056fc3-a49c-4525-bc8f-d83cdbf7bbfa",
   "metadata": {},
   "source": [
    "## Numpy Basic"
   ]
  },
  {
   "cell_type": "markdown",
   "id": "f26d85e2-2c53-4306-a2c7-8e4032eadd9f",
   "metadata": {},
   "source": [
    "### Consider the below code to answer further questions:\n",
    "import numpy as np\n",
    "list_ = [ ‘1’ , ’2’ , ‘3’ , ‘4’ , ‘5’ ]\n",
    "array_list = np.array(object = list_)"
   ]
  },
  {
   "cell_type": "markdown",
   "id": "a7aab753-7b8e-4b2b-82df-a954f2af6f20",
   "metadata": {},
   "source": [
    "### Q1. Is there any difference in the data type of variables list_ and array_list? If there is then write a code to print the data types of both the variables."
   ]
  },
  {
   "cell_type": "markdown",
   "id": "d038c6fd-6a8c-4f63-84f5-5d7edc22031e",
   "metadata": {},
   "source": [
    "### Yes, there is a difference in the data type of the variables list_ and array_list. The variable list_ is a Python list, while array_list is a NumPy array."
   ]
  },
  {
   "cell_type": "code",
   "execution_count": 1,
   "id": "0257e2f1-4b4b-469d-b406-84a8da36cde3",
   "metadata": {},
   "outputs": [
    {
     "name": "stdout",
     "output_type": "stream",
     "text": [
      "Data type of list_: <class 'list'>\n",
      "Data type of array_list: <class 'numpy.ndarray'>\n",
      "Data type of elements in array_list: <U1\n"
     ]
    }
   ],
   "source": [
    "import numpy as np\n",
    "\n",
    "list_ = ['1', '2', '3', '4', '5']\n",
    "array_list = np.array(list_)\n",
    "\n",
    "# Print the data types of both variables\n",
    "print(f\"Data type of list_: {type(list_)}\")\n",
    "print(f\"Data type of array_list: {type(array_list)}\")\n",
    "\n",
    "# Additionally, print the data type of the elements within the NumPy array\n",
    "print(f\"Data type of elements in array_list: {array_list.dtype}\")"
   ]
  },
  {
   "cell_type": "markdown",
   "id": "52ee5ab8-9a86-4d08-8819-5992aec33321",
   "metadata": {},
   "source": [
    "### This output confirms that list_ is a Python list and array_list is a NumPy array with elements of type <U1, which indicates Unicode strings of length 1."
   ]
  },
  {
   "cell_type": "markdown",
   "id": "bef61aa7-c017-47ab-9f09-ae0e87452798",
   "metadata": {},
   "source": [
    "### Q2. Write a code to print the data type of each and every element of both the variables list_ and arra_list."
   ]
  },
  {
   "cell_type": "markdown",
   "id": "cbe7ae89-66c1-4905-b5d4-1f8cca96cdec",
   "metadata": {},
   "source": [
    "### Here is the code to print the data type of each element in both the list_ and the array_list:"
   ]
  },
  {
   "cell_type": "code",
   "execution_count": 2,
   "id": "c9af3e27-bce9-4338-a855-91fbf35f1427",
   "metadata": {},
   "outputs": [
    {
     "name": "stdout",
     "output_type": "stream",
     "text": [
      "Data types of elements in list_:\n",
      "Element: 1, Type: <class 'str'>\n",
      "Element: 2, Type: <class 'str'>\n",
      "Element: 3, Type: <class 'str'>\n",
      "Element: 4, Type: <class 'str'>\n",
      "Element: 5, Type: <class 'str'>\n",
      "\n",
      "Data types of elements in array_list:\n",
      "Element: 1, Type: <class 'numpy.str_'>\n",
      "Element: 2, Type: <class 'numpy.str_'>\n",
      "Element: 3, Type: <class 'numpy.str_'>\n",
      "Element: 4, Type: <class 'numpy.str_'>\n",
      "Element: 5, Type: <class 'numpy.str_'>\n"
     ]
    }
   ],
   "source": [
    "import numpy as np\n",
    "\n",
    "list_ = ['1', '2', '3', '4', '5']\n",
    "array_list = np.array(list_)\n",
    "\n",
    "# Print the data type of each element in the list_\n",
    "print(\"Data types of elements in list_:\")\n",
    "for element in list_:\n",
    "    print(f\"Element: {element}, Type: {type(element)}\")\n",
    "\n",
    "# Print the data type of each element in the array_list\n",
    "print(\"\\nData types of elements in array_list:\")\n",
    "for element in array_list:\n",
    "    print(f\"Element: {element}, Type: {type(element)}\")"
   ]
  },
  {
   "cell_type": "markdown",
   "id": "ac0e618f-1385-4f9e-a149-c9423d6ae39b",
   "metadata": {},
   "source": [
    "### This output confirms that each element in list_ is a Python string (<class 'str'>), while each element in array_list is a NumPy string (<class 'numpy.str_'>)."
   ]
  },
  {
   "cell_type": "markdown",
   "id": "153389c2-fbdb-4b52-84a2-ea0dd9748662",
   "metadata": {},
   "source": [
    "### Q3. Considering the following changes in the variable, array_list: array_list = np.array(object = list_, dtype = int) Will there be any difference in the data type of the elements present in both the variables, list_ and arra_list? If so then print the data types of each and every element present in both the variables, list_ and arra_list."
   ]
  },
  {
   "cell_type": "markdown",
   "id": "618c29f1-e0cf-4c08-8318-4ef5422dd251",
   "metadata": {},
   "source": [
    "### Yes, there will be a difference in the data type of the elements present in both list_ and array_list after the change. The elements of array_list will be converted to integers, while the elements of list_ will remain as strings.\n",
    "### Here is the code to print the data types of each element in both list_ and array_list after the change:"
   ]
  },
  {
   "cell_type": "code",
   "execution_count": 3,
   "id": "87995b8a-2d5f-4930-9a63-faecd2bcfa44",
   "metadata": {},
   "outputs": [
    {
     "name": "stdout",
     "output_type": "stream",
     "text": [
      "Data types of elements in list_:\n",
      "Element: 1, Type: <class 'str'>\n",
      "Element: 2, Type: <class 'str'>\n",
      "Element: 3, Type: <class 'str'>\n",
      "Element: 4, Type: <class 'str'>\n",
      "Element: 5, Type: <class 'str'>\n",
      "\n",
      "Data types of elements in array_list:\n",
      "Element: 1, Type: <class 'numpy.int64'>\n",
      "Element: 2, Type: <class 'numpy.int64'>\n",
      "Element: 3, Type: <class 'numpy.int64'>\n",
      "Element: 4, Type: <class 'numpy.int64'>\n",
      "Element: 5, Type: <class 'numpy.int64'>\n"
     ]
    }
   ],
   "source": [
    "import numpy as np\n",
    "\n",
    "list_ = ['1', '2', '3', '4', '5']\n",
    "array_list = np.array(object = list_, dtype = int)\n",
    "\n",
    "# Print the data type of each element in list_\n",
    "print(\"Data types of elements in list_:\")\n",
    "for element in list_:\n",
    "    print(f\"Element: {element}, Type: {type(element)}\")\n",
    "\n",
    "# Print the data type of each element in array_list\n",
    "print(\"\\nData types of elements in array_list:\")\n",
    "for element in array_list:\n",
    "    print(f\"Element: {element}, Type: {type(element)}\")"
   ]
  },
  {
   "cell_type": "markdown",
   "id": "e8b5f23f-2389-4f46-bf9d-131beedc1bbd",
   "metadata": {},
   "source": [
    "### This output confirms that each element in list_ remains a Python string (<class 'str'>), while each element in array_list is now a NumPy integer (<class 'numpy.int64'>)."
   ]
  },
  {
   "cell_type": "markdown",
   "id": "402199c9-dc87-4e34-8b74-80053c6d0250",
   "metadata": {},
   "source": [
    "### Consider the below code to answer further questions:\n",
    "import numpy as np\n",
    "num_list = [ [ 1 , 2 , 3 ] , [ 4 , 5 , 6 ] ]\n",
    "num_array = np.array(object = num_list)"
   ]
  },
  {
   "cell_type": "markdown",
   "id": "6cc2c43d-694d-4340-b608-d92f1bd6bdf0",
   "metadata": {},
   "source": [
    "### Q4. Write a code to find the following characteristics of variable, num_array:\n",
    "(i) shape\n",
    "(ii) size"
   ]
  },
  {
   "cell_type": "markdown",
   "id": "8bfd3416-3506-4876-bb78-dfe966b38376",
   "metadata": {},
   "source": [
    "### Here is the code to find the shape and size of the variable num_array"
   ]
  },
  {
   "cell_type": "code",
   "execution_count": 4,
   "id": "210eabae-0710-49a9-bb19-4171cf98fede",
   "metadata": {},
   "outputs": [
    {
     "name": "stdout",
     "output_type": "stream",
     "text": [
      "Shape of num_array: (2, 3)\n",
      "Size of num_array: 6\n"
     ]
    }
   ],
   "source": [
    "import numpy as np\n",
    "\n",
    "num_list = [[1, 2, 3], [4, 5, 6]]\n",
    "num_array = np.array(num_list)\n",
    "\n",
    "# Find and print the shape of num_array\n",
    "shape = num_array.shape\n",
    "print(f\"Shape of num_array: {shape}\")\n",
    "\n",
    "# Find and print the size of num_array\n",
    "size = num_array.size\n",
    "print(f\"Size of num_array: {size}\")"
   ]
  },
  {
   "cell_type": "markdown",
   "id": "4c490582-99ae-4f38-8c5f-2465ab1b9a93",
   "metadata": {},
   "source": [
    "### Shape: The shape of num_array is (2, 3), meaning it has 2 rows and 3 columns.\n",
    "### Size: The size of num_array is 6, which is the total number of elements in the array."
   ]
  },
  {
   "cell_type": "markdown",
   "id": "5f732ea8-3821-4594-b251-a09ef63a5906",
   "metadata": {},
   "source": [
    "### Q5. Write a code to create numpy array of 3*3 matrix containing zeros only, using a numpy array creation function.\n",
    "[Hint: The size of the array will be 9 and the shape will be (3,3).]"
   ]
  },
  {
   "cell_type": "markdown",
   "id": "5c245de9-bb2e-4373-948c-ec0edd249b8e",
   "metadata": {},
   "source": [
    "### we can create a 3x3 matrix containing zeros using the numpy.zeros function. Here is the code to achieve that:"
   ]
  },
  {
   "cell_type": "code",
   "execution_count": 5,
   "id": "089511cc-a5ae-426f-a9a9-e610aa4cfafe",
   "metadata": {},
   "outputs": [
    {
     "name": "stdout",
     "output_type": "stream",
     "text": [
      "3x3 matrix containing zeros:\n",
      "[[0. 0. 0.]\n",
      " [0. 0. 0.]\n",
      " [0. 0. 0.]]\n"
     ]
    }
   ],
   "source": [
    "import numpy as np\n",
    "\n",
    "# Create a 3x3 matrix containing zeros\n",
    "zeros_matrix = np.zeros((3, 3))\n",
    "\n",
    "# Print the matrix\n",
    "print(\"3x3 matrix containing zeros:\")\n",
    "print(zeros_matrix)"
   ]
  },
  {
   "cell_type": "markdown",
   "id": "0741a8e0-aec9-4df2-a752-bf946e13930f",
   "metadata": {},
   "source": [
    "### Q6. Create an identity matrix of shape (5,5) using numpy functions?\n",
    "[Hint: An identity matrix is a matrix containing 1 diagonally and other elements will be 0.]"
   ]
  },
  {
   "cell_type": "markdown",
   "id": "6e741a02-5ee1-4e87-bce8-093cce5732ff",
   "metadata": {},
   "source": [
    "### we can create an identity matrix of shape (5,5) using the numpy.identity or numpy.eye function. Here is the code to achieve that:"
   ]
  },
  {
   "cell_type": "code",
   "execution_count": 6,
   "id": "3c1defb3-81f8-46c0-9ddd-da23361d9192",
   "metadata": {},
   "outputs": [
    {
     "name": "stdout",
     "output_type": "stream",
     "text": [
      "5x5 Identity matrix:\n",
      "[[1. 0. 0. 0. 0.]\n",
      " [0. 1. 0. 0. 0.]\n",
      " [0. 0. 1. 0. 0.]\n",
      " [0. 0. 0. 1. 0.]\n",
      " [0. 0. 0. 0. 1.]]\n"
     ]
    }
   ],
   "source": [
    "import numpy as np\n",
    "\n",
    "# Create a 5x5 identity matrix\n",
    "identity_matrix = np.identity(5)\n",
    "\n",
    "# Alternatively, we can use np.eye\n",
    "# identity_matrix = np.eye(5)\n",
    "\n",
    "# Print the identity matrix\n",
    "print(\"5x5 Identity matrix:\")\n",
    "print(identity_matrix)"
   ]
  },
  {
   "cell_type": "markdown",
   "id": "6b78ef6e-4719-4e39-ad03-6aacdf94623f",
   "metadata": {},
   "source": [
    "### This matrix has 1s on the diagonal and 0s elsewhere, which defines an identity matrix."
   ]
  },
  {
   "cell_type": "code",
   "execution_count": null,
   "id": "8a83e1de-b2ab-4b89-a01c-039099a39f18",
   "metadata": {},
   "outputs": [],
   "source": []
  }
 ],
 "metadata": {
  "kernelspec": {
   "display_name": "Python 3 (ipykernel)",
   "language": "python",
   "name": "python3"
  },
  "language_info": {
   "codemirror_mode": {
    "name": "ipython",
    "version": 3
   },
   "file_extension": ".py",
   "mimetype": "text/x-python",
   "name": "python",
   "nbconvert_exporter": "python",
   "pygments_lexer": "ipython3",
   "version": "3.10.8"
  }
 },
 "nbformat": 4,
 "nbformat_minor": 5
}
